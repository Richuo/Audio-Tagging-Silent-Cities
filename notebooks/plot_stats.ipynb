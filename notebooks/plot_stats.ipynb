{
 "cells": [
  {
   "cell_type": "code",
   "execution_count": 1,
   "metadata": {},
   "outputs": [
    {
     "name": "stdout",
     "output_type": "stream",
     "text": [
      "Device: cuda\n"
     ]
    }
   ],
   "source": [
    "import seaborn as sns\n",
    "from sklearn.metrics import accuracy_score\n",
    "from sklearn.metrics import mean_squared_error\n",
    "from sklearn.metrics import classification_report\n",
    "from sklearn.metrics import confusion_matrix\n",
    "\n",
    "from main import *"
   ]
  },
  {
   "cell_type": "code",
   "execution_count": 2,
   "metadata": {},
   "outputs": [],
   "source": [
    "TRAINED_MODEL_PATH = \"models/Transfer_ResNet22_trained_testAcc=0.6202.pth\"\n",
    "MODEL_TYPE = \"Transfer_ResNet22\""
   ]
  },
  {
   "cell_type": "code",
   "execution_count": 3,
   "metadata": {},
   "outputs": [],
   "source": [
    "train_df = pd.read_csv(TRAIN_LABELS_PATH)\n",
    "val_df = pd.read_csv(VAL_LABELS_PATH)\n",
    "test_df = pd.read_csv(TEST_LABELS_PATH)"
   ]
  },
  {
   "cell_type": "code",
   "execution_count": 4,
   "metadata": {},
   "outputs": [
    {
     "name": "stdout",
     "output_type": "stream",
     "text": [
      "NB_SPECIES:  13\n"
     ]
    }
   ],
   "source": [
    "BATCH_SIZE = 1\n",
    "SR = SAMPLE_RATE\n",
    "AUDIO_DURATION = 10\n",
    "NB_SPECIES = len(set(train_df['label']))\n",
    "print(\"NB_SPECIES: \", NB_SPECIES)\n",
    "\n",
    "RANDOM_STATE = 17\n",
    "random.seed(RANDOM_STATE)"
   ]
  },
  {
   "cell_type": "code",
   "execution_count": 5,
   "metadata": {},
   "outputs": [
    {
     "name": "stderr",
     "output_type": "stream",
     "text": [
      "C:\\Users\\Richard\\Anaconda3\\envs\\Pytorch-gpu\\lib\\site-packages\\librosa\\filters.py:284: UserWarning: Empty filters detected in mel frequency basis. Some channels will produce empty responses. Try increasing your sampling rate (and fmax) or reducing n_mels.\n",
      "  warnings.warn('Empty filters detected in mel frequency basis. '\n"
     ]
    },
    {
     "name": "stdout",
     "output_type": "stream",
     "text": [
      "GPU number: 1\n",
      "Load pretrained model successfully!\n"
     ]
    }
   ],
   "source": [
    "criterion = nn.CrossEntropyLoss()\n",
    "model = load_model(model_type=MODEL_TYPE, sample_rate=SR, nb_species=NB_SPECIES, \n",
    "                   model_path=TRAINED_MODEL_PATH, after_train=True)"
   ]
  },
  {
   "cell_type": "code",
   "execution_count": 6,
   "metadata": {},
   "outputs": [
    {
     "name": "stdout",
     "output_type": "stream",
     "text": [
      "Valid files: 624\n",
      "Unvalid files: 0\n",
      "Vstacking data...\n",
      "Attributing arrays to dataloader...\n",
      "Data processing duration: 0min 20s\n",
      "\n"
     ]
    }
   ],
   "source": [
    "testloader = process_data(df=test_df, batch_size=BATCH_SIZE, \n",
    "                          sample_rate=SR, audio_duration=AUDIO_DURATION, \n",
    "                          random_state=RANDOM_STATE, do_plot=False)"
   ]
  },
  {
   "cell_type": "code",
   "execution_count": 7,
   "metadata": {},
   "outputs": [],
   "source": [
    "history_training = {}\n",
    "dataloaders = {'test': testloader[0]}\n",
    "dataset_sizes = {'test': testloader[1]}"
   ]
  },
  {
   "cell_type": "code",
   "execution_count": 8,
   "metadata": {},
   "outputs": [
    {
     "name": "stdout",
     "output_type": "stream",
     "text": [
      "\n",
      "**TESTING**\n",
      "Test stats -  Loss: 1.2296 Acc: 63.30%\n",
      "Inference on Testset complete in 14.9s\n",
      "\n"
     ]
    }
   ],
   "source": [
    "history_training = test_model(model=model, hist=history_training, criterion=criterion, \n",
    "                              dataloaders=dataloaders, dataset_sizes=dataset_sizes)"
   ]
  },
  {
   "cell_type": "code",
   "execution_count": 9,
   "metadata": {},
   "outputs": [],
   "source": [
    "y_pred = [y.cpu() for y in history_training['y_pred']]\n",
    "y_true = [y.cpu() for y in history_training['y_true']]"
   ]
  },
  {
   "cell_type": "code",
   "execution_count": 10,
   "metadata": {},
   "outputs": [
    {
     "name": "stdout",
     "output_type": "stream",
     "text": [
      "Accuracy: 63.301%\n",
      "MSE: 6.534\n",
      "              precision    recall  f1-score   support\n",
      "\n",
      "     class 1       0.69      0.55      0.61        20\n",
      "     class 2       0.59      0.76      0.67        17\n",
      "     class 3       0.48      0.41      0.44        29\n",
      "     class 4       0.47      0.34      0.39        44\n",
      "     class 5       0.67      0.71      0.69        76\n",
      "     class 6       0.69      0.32      0.44        34\n",
      "     class 7       0.73      0.59      0.65       111\n",
      "     class 8       0.57      0.72      0.64        95\n",
      "     class 9       0.53      0.65      0.58        69\n",
      "    class 10       0.53      0.35      0.42        23\n",
      "    class 11       0.77      0.87      0.82        23\n",
      "    class 12       0.76      0.76      0.76        17\n",
      "    class 13       0.74      0.91      0.82        66\n",
      "\n",
      "    accuracy                           0.63       624\n",
      "   macro avg       0.63      0.61      0.61       624\n",
      "weighted avg       0.63      0.63      0.62       624\n",
      "\n"
     ]
    }
   ],
   "source": [
    "accuracy = round(accuracy_score(y_true, y_pred)*100, 3)\n",
    "mse = round(mean_squared_error(y_true, y_pred), 3)\n",
    "print(f'Accuracy: {accuracy}%')\n",
    "print(f'MSE: {mse}')\n",
    "target_names = [f'class {i+1}' for i in range(NB_SPECIES)]\n",
    "print(classification_report(y_true, y_pred, target_names=target_names))"
   ]
  },
  {
   "cell_type": "code",
   "execution_count": 11,
   "metadata": {},
   "outputs": [
    {
     "data": {
      "image/png": "[encoded data removed]",
      "text/plain": [
       "<Figure size 720x504 with 2 Axes>"
      ]
     },
     "metadata": {
      "needs_background": "light"
     },
     "output_type": "display_data"
    }
   ],
   "source": [
    "cm = confusion_matrix(y_true, y_pred)\n",
    "df_cm = pd.DataFrame(cm, index = [i+1 for i in range(NB_SPECIES)], \n",
    "                     columns = [i+1 for i in range(NB_SPECIES)])\n",
    "plt.figure(figsize = (10,7))\n",
    "cmap = sns.cubehelix_palette(light=1, as_cmap=True)\n",
    "sns.heatmap(df_cm, cmap=cmap, annot=True)\n",
    "plt.show()"
   ]
  },
  {
   "cell_type": "code",
   "execution_count": null,
   "metadata": {},
   "outputs": [],
   "source": []
  }
 ],
 "metadata": {
  "kernelspec": {
   "display_name": "Python 3",
   "language": "python",
   "name": "python3"
  },
  "language_info": {
   "codemirror_mode": {
    "name": "ipython",
    "version": 3
   },
   "file_extension": ".py",
   "mimetype": "text/x-python",
   "name": "python",
   "nbconvert_exporter": "python",
   "pygments_lexer": "ipython3",
   "version": "3.7.7"
  }
 },
 "nbformat": 4,
 "nbformat_minor": 4
}
