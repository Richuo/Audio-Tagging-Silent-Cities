{
 "cells": [
  {
   "cell_type": "code",
   "execution_count": 1,
   "metadata": {},
   "outputs": [],
   "source": [
    "import os\n",
    "import sys\n",
    "import time\n",
    "import urllib.request, json\n",
    "\n",
    "import re\n",
    "import pandas as pd"
   ]
  },
  {
   "cell_type": "code",
   "execution_count": 2,
   "metadata": {},
   "outputs": [],
   "source": [
    "DATA_PATH_FILTERED = \"filtered_birds_df.csv\"\n",
    "DATA_DIR = \"audiodata/mp3\"\n",
    "\n",
    "# Create dir if it doesn't exist\n",
    "if not os.path.exists(DATA_DIR):\n",
    "    os.makedirs(DATA_DIR)"
   ]
  },
  {
   "cell_type": "code",
   "execution_count": 3,
   "metadata": {},
   "outputs": [],
   "source": [
    "def download_birds_audio(df, birdName, do_print=True):\n",
    "    \"\"\"\n",
    "    Download the audio files from the dataframe, by birdName.\n",
    "    Returns IDs that have invalid url in a list.\n",
    "    \"\"\"\n",
    "    if do_print: print(f\"Downloading for {birdName}\")\n",
    "    nonValidIDList = []\n",
    "    newbirdName = birdName.replace(\" \", \"_\").lower()\n",
    "    path = DATA_DIR + \"/\" + newbirdName\n",
    "    \n",
    "    # Create directory if it does not exist.\n",
    "    if not os.path.exists(path):\n",
    "        os.makedirs(path)\n",
    "    birdf = df.loc[df['birdName'] == birdName]\n",
    "    \n",
    "    # Downloading the file as .mp3\n",
    "    for idx in range(len(birdf)):\n",
    "        iD = birdf.iloc[idx]['iD']\n",
    "        filename = f\"{path}/{newbirdName}_{iD}.mp3\"\n",
    "        if not os.path.isfile(filename):\n",
    "            url = f\"http://{birdf.iloc[idx]['url']}\"\n",
    "            try:\n",
    "                urllib.request.urlretrieve(url, filename)\n",
    "            except:\n",
    "                # Add unretrievable files' id\n",
    "                nonValidIDList.append(iD)\n",
    "            time.sleep(0.1) # delay between API requests\n",
    "\n",
    "    if do_print: print(\"Downloading finished.\")\n",
    "    return nonValidIDList\n",
    "\n",
    "\n",
    "def download_all_birds_audio(df, birdslist):\n",
    "    \"\"\"\n",
    "    Download all the audio files from the dataframe.\n",
    "    Returns IDs that have invalid url in a dictionary where birdName are the dict keys.\n",
    "    \"\"\"\n",
    "    nonValidFiles = {}\n",
    "    for birdName in birdslist:\n",
    "        nonValidIDList = download_birds_audio(df, birdName)\n",
    "        nonValidFiles[birdName] = nonValidIDList\n",
    "    \n",
    "    return nonValidFiles"
   ]
  },
  {
   "cell_type": "code",
   "execution_count": 4,
   "metadata": {},
   "outputs": [],
   "source": [
    "df = pd.read_csv(DATA_PATH_FILTERED)"
   ]
  },
  {
   "cell_type": "code",
   "execution_count": 5,
   "metadata": {},
   "outputs": [
    {
     "name": "stdout",
     "output_type": "stream",
     "text": [
      "(6149, 6)\n"
     ]
    },
    {
     "data": {
      "text/html": [
       "<div>\n",
       "<style scoped>\n",
       "    .dataframe tbody tr th:only-of-type {\n",
       "        vertical-align: middle;\n",
       "    }\n",
       "\n",
       "    .dataframe tbody tr th {\n",
       "        vertical-align: top;\n",
       "    }\n",
       "\n",
       "    .dataframe thead th {\n",
       "        text-align: right;\n",
       "    }\n",
       "</style>\n",
       "<table border=\"1\" class=\"dataframe\">\n",
       "  <thead>\n",
       "    <tr style=\"text-align: right;\">\n",
       "      <th></th>\n",
       "      <th>iD</th>\n",
       "      <th>quality</th>\n",
       "      <th>length</th>\n",
       "      <th>country</th>\n",
       "      <th>url</th>\n",
       "      <th>birdName</th>\n",
       "    </tr>\n",
       "  </thead>\n",
       "  <tbody>\n",
       "    <tr>\n",
       "      <th>0</th>\n",
       "      <td>548389</td>\n",
       "      <td>A</td>\n",
       "      <td>59</td>\n",
       "      <td>United Kingdom</td>\n",
       "      <td>www.xeno-canto.org/548389/download</td>\n",
       "      <td>Sturnus vulgaris</td>\n",
       "    </tr>\n",
       "    <tr>\n",
       "      <th>1</th>\n",
       "      <td>546936</td>\n",
       "      <td>A</td>\n",
       "      <td>32</td>\n",
       "      <td>France</td>\n",
       "      <td>www.xeno-canto.org/546936/download</td>\n",
       "      <td>Sturnus vulgaris</td>\n",
       "    </tr>\n",
       "    <tr>\n",
       "      <th>2</th>\n",
       "      <td>546935</td>\n",
       "      <td>A</td>\n",
       "      <td>65</td>\n",
       "      <td>France</td>\n",
       "      <td>www.xeno-canto.org/546935/download</td>\n",
       "      <td>Sturnus vulgaris</td>\n",
       "    </tr>\n",
       "    <tr>\n",
       "      <th>3</th>\n",
       "      <td>543800</td>\n",
       "      <td>A</td>\n",
       "      <td>36</td>\n",
       "      <td>Sweden</td>\n",
       "      <td>www.xeno-canto.org/543800/download</td>\n",
       "      <td>Sturnus vulgaris</td>\n",
       "    </tr>\n",
       "    <tr>\n",
       "      <th>4</th>\n",
       "      <td>542770</td>\n",
       "      <td>A</td>\n",
       "      <td>44</td>\n",
       "      <td>Poland</td>\n",
       "      <td>www.xeno-canto.org/542770/download</td>\n",
       "      <td>Sturnus vulgaris</td>\n",
       "    </tr>\n",
       "  </tbody>\n",
       "</table>\n",
       "</div>"
      ],
      "text/plain": [
       "       iD quality  length         country                                 url  \\\n",
       "0  548389       A      59  United Kingdom  www.xeno-canto.org/548389/download   \n",
       "1  546936       A      32          France  www.xeno-canto.org/546936/download   \n",
       "2  546935       A      65          France  www.xeno-canto.org/546935/download   \n",
       "3  543800       A      36          Sweden  www.xeno-canto.org/543800/download   \n",
       "4  542770       A      44          Poland  www.xeno-canto.org/542770/download   \n",
       "\n",
       "           birdName  \n",
       "0  Sturnus vulgaris  \n",
       "1  Sturnus vulgaris  \n",
       "2  Sturnus vulgaris  \n",
       "3  Sturnus vulgaris  \n",
       "4  Sturnus vulgaris  "
      ]
     },
     "execution_count": 5,
     "metadata": {},
     "output_type": "execute_result"
    }
   ],
   "source": [
    "print(df.shape)\n",
    "df.head()"
   ]
  },
  {
   "cell_type": "code",
   "execution_count": 6,
   "metadata": {},
   "outputs": [
    {
     "name": "stdout",
     "output_type": "stream",
     "text": [
      "['Parus major', 'Passer domesticus', 'Columba palumbus', 'Sturnus vulgaris', 'Cyanistes caeruleus', 'Fringilla coelebs', 'Erithacus rubecula', 'Phylloscopus collybita', 'Carduelis carduelis', 'Hirundo rustica', 'Linaria cannabina', 'Regulus regulus', 'Turdus merula']\n",
      "[1084, 224, 168, 198, 424, 950, 686, 750, 334, 227, 171, 287, 646]\n"
     ]
    }
   ],
   "source": [
    "birdsList = list(set(df['birdName']))\n",
    "NumBirdsList = [len(df.loc[df['birdName'] == bird]) for bird in birdsList]\n",
    "print(birdsList)\n",
    "print(NumBirdsList)"
   ]
  },
  {
   "cell_type": "code",
   "execution_count": 7,
   "metadata": {},
   "outputs": [],
   "source": [
    "# Sanity check of the urls\n",
    "for url in df['url']:\n",
    "    if url[:4] != \"www.\":\n",
    "        print(\"Wrong url\")\n",
    "        break;"
   ]
  },
  {
   "cell_type": "markdown",
   "metadata": {},
   "source": [
    "### Download .mp3 files"
   ]
  },
  {
   "cell_type": "code",
   "execution_count": 8,
   "metadata": {},
   "outputs": [
    {
     "name": "stdout",
     "output_type": "stream",
     "text": [
      "Downloading for Parus major\n",
      "Downloading finished.\n",
      "Downloading for Passer domesticus\n",
      "Downloading finished.\n",
      "Downloading for Columba palumbus\n",
      "Downloading finished.\n",
      "Downloading for Sturnus vulgaris\n",
      "Downloading finished.\n",
      "Downloading for Cyanistes caeruleus\n",
      "Downloading finished.\n",
      "Downloading for Fringilla coelebs\n",
      "Downloading finished.\n",
      "Downloading for Erithacus rubecula\n",
      "Downloading finished.\n",
      "Downloading for Phylloscopus collybita\n",
      "Downloading finished.\n",
      "Downloading for Carduelis carduelis\n",
      "Downloading finished.\n",
      "Downloading for Hirundo rustica\n",
      "Downloading finished.\n",
      "Downloading for Linaria cannabina\n",
      "Downloading finished.\n",
      "Downloading for Regulus regulus\n",
      "Downloading finished.\n",
      "Downloading for Turdus merula\n",
      "Downloading finished.\n",
      "Wall time: 5.98 s\n"
     ]
    }
   ],
   "source": [
    "%%time\n",
    "nonValidFiles = download_all_birds_audio(df, birdsList)"
   ]
  },
  {
   "cell_type": "markdown",
   "metadata": {},
   "source": [
    "### Filter unvalid URLs"
   ]
  },
  {
   "cell_type": "code",
   "execution_count": 9,
   "metadata": {},
   "outputs": [
    {
     "name": "stdout",
     "output_type": "stream",
     "text": [
      "9 non valid elements removed\n",
      "Updated df shape: (6140, 6)\n"
     ]
    },
    {
     "data": {
      "text/html": [
       "<div>\n",
       "<style scoped>\n",
       "    .dataframe tbody tr th:only-of-type {\n",
       "        vertical-align: middle;\n",
       "    }\n",
       "\n",
       "    .dataframe tbody tr th {\n",
       "        vertical-align: top;\n",
       "    }\n",
       "\n",
       "    .dataframe thead th {\n",
       "        text-align: right;\n",
       "    }\n",
       "</style>\n",
       "<table border=\"1\" class=\"dataframe\">\n",
       "  <thead>\n",
       "    <tr style=\"text-align: right;\">\n",
       "      <th></th>\n",
       "      <th>iD</th>\n",
       "      <th>quality</th>\n",
       "      <th>length</th>\n",
       "      <th>country</th>\n",
       "      <th>url</th>\n",
       "      <th>birdName</th>\n",
       "    </tr>\n",
       "  </thead>\n",
       "  <tbody>\n",
       "    <tr>\n",
       "      <th>0</th>\n",
       "      <td>548389</td>\n",
       "      <td>A</td>\n",
       "      <td>59</td>\n",
       "      <td>United Kingdom</td>\n",
       "      <td>www.xeno-canto.org/548389/download</td>\n",
       "      <td>Sturnus vulgaris</td>\n",
       "    </tr>\n",
       "    <tr>\n",
       "      <th>1</th>\n",
       "      <td>546936</td>\n",
       "      <td>A</td>\n",
       "      <td>32</td>\n",
       "      <td>France</td>\n",
       "      <td>www.xeno-canto.org/546936/download</td>\n",
       "      <td>Sturnus vulgaris</td>\n",
       "    </tr>\n",
       "    <tr>\n",
       "      <th>2</th>\n",
       "      <td>546935</td>\n",
       "      <td>A</td>\n",
       "      <td>65</td>\n",
       "      <td>France</td>\n",
       "      <td>www.xeno-canto.org/546935/download</td>\n",
       "      <td>Sturnus vulgaris</td>\n",
       "    </tr>\n",
       "    <tr>\n",
       "      <th>3</th>\n",
       "      <td>543800</td>\n",
       "      <td>A</td>\n",
       "      <td>36</td>\n",
       "      <td>Sweden</td>\n",
       "      <td>www.xeno-canto.org/543800/download</td>\n",
       "      <td>Sturnus vulgaris</td>\n",
       "    </tr>\n",
       "    <tr>\n",
       "      <th>4</th>\n",
       "      <td>542770</td>\n",
       "      <td>A</td>\n",
       "      <td>44</td>\n",
       "      <td>Poland</td>\n",
       "      <td>www.xeno-canto.org/542770/download</td>\n",
       "      <td>Sturnus vulgaris</td>\n",
       "    </tr>\n",
       "  </tbody>\n",
       "</table>\n",
       "</div>"
      ],
      "text/plain": [
       "       iD quality  length         country                                 url  \\\n",
       "0  548389       A      59  United Kingdom  www.xeno-canto.org/548389/download   \n",
       "1  546936       A      32          France  www.xeno-canto.org/546936/download   \n",
       "2  546935       A      65          France  www.xeno-canto.org/546935/download   \n",
       "3  543800       A      36          Sweden  www.xeno-canto.org/543800/download   \n",
       "4  542770       A      44          Poland  www.xeno-canto.org/542770/download   \n",
       "\n",
       "           birdName  \n",
       "0  Sturnus vulgaris  \n",
       "1  Sturnus vulgaris  \n",
       "2  Sturnus vulgaris  \n",
       "3  Sturnus vulgaris  \n",
       "4  Sturnus vulgaris  "
      ]
     },
     "execution_count": 9,
     "metadata": {},
     "output_type": "execute_result"
    }
   ],
   "source": [
    "nonValidList = []\n",
    "for IDList in nonValidFiles.values():\n",
    "    for ID in IDList:\n",
    "        nonValidList.append(ID)\n",
    "\n",
    "updatedf = df.loc[~df['iD'].isin(nonValidList)].reset_index(drop=True)\n",
    "print(f\"{len(df)-len(updatedf)} non valid elements removed\")\n",
    "print(\"Updated df shape:\",updatedf.shape)\n",
    "updatedf.head()"
   ]
  },
  {
   "cell_type": "code",
   "execution_count": null,
   "metadata": {},
   "outputs": [],
   "source": []
  },
  {
   "cell_type": "code",
   "execution_count": null,
   "metadata": {},
   "outputs": [],
   "source": []
  }
 ],
 "metadata": {
  "kernelspec": {
   "display_name": "Python 3",
   "language": "python",
   "name": "python3"
  },
  "language_info": {
   "codemirror_mode": {
    "name": "ipython",
    "version": 3
   },
   "file_extension": ".py",
   "mimetype": "text/x-python",
   "name": "python",
   "nbconvert_exporter": "python",
   "pygments_lexer": "ipython3",
   "version": "3.7.7"
  }
 },
 "nbformat": 4,
 "nbformat_minor": 4
}
