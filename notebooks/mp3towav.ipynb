{
 "cells": [
  {
   "cell_type": "code",
   "execution_count": 1,
   "metadata": {},
   "outputs": [
    {
     "name": "stderr",
     "output_type": "stream",
     "text": [
      "C:\\Users\\Richard\\Anaconda3\\envs\\pytorch-cpu\\lib\\site-packages\\librosa\\util\\decorators.py:9: NumbaDeprecationWarning: \u001b[1mAn import was requested from a module that has moved location.\n",
      "Import of 'jit' requested from: 'numba.decorators', please update to use 'numba.core.decorators' or pin to Numba version 0.48.0. This alias will not be present in Numba version 0.50.0.\u001b[0m\n",
      "  from numba.decorators import jit as optional_jit\n"
     ]
    }
   ],
   "source": [
    "import os\n",
    "import sys\n",
    "import time\n",
    "from joblib import Parallel, delayed\n",
    "\n",
    "import numpy as np\n",
    "import librosa\n",
    "import soundfile as sf\n",
    "import pandas as pd"
   ]
  },
  {
   "cell_type": "code",
   "execution_count": 2,
   "metadata": {},
   "outputs": [],
   "source": [
    "DATA_DIR_MP3 = \"audiodata/mp3\"\n",
    "DATA_DIR_WAV = \"audiodata/wav\"\n",
    "\n",
    "SR = 14000\n",
    "BIRDS_DIR_LIST = os.listdir(DATA_DIR_MP3)\n",
    "\n",
    "# Create directories for wav files\n",
    "if not os.path.exists(DATA_DIR_WAV):\n",
    "    os.makedirs(DATA_DIR_WAV)\n",
    "\n",
    "for bird in BIRDS_DIR_LIST:\n",
    "    data_dir_bird = f\"{DATA_DIR_WAV}/{bird}\"\n",
    "    if not os.path.exists(data_dir_bird):\n",
    "        os.makedirs(data_dir_bird)"
   ]
  },
  {
   "cell_type": "code",
   "execution_count": 21,
   "metadata": {},
   "outputs": [],
   "source": [
    "def convert_mp3_to_wav(filename, birdName, sr):\n",
    "    \"\"\"\n",
    "    Converts the mp3 file to wav, with a sample_rate = 14000Hz and a single channel.\n",
    "    \"\"\"\n",
    "    bird_filename_mp3 = f\"{DATA_DIR_MP3}/{birdName}/{filename}\"\n",
    "    bird_filename_wav = f\"{DATA_DIR_WAV}/{birdName}/{filename[:-4]}.wav\"\n",
    "\n",
    "    if bird_filename_mp3[-4:] == '.mp3' and not os.path.isfile(bird_filename_wav):\n",
    "#         print(bird_filename_mp3)\n",
    "        bird_array, _ = librosa.load(bird_filename_mp3, mono=True, sr=sr)\n",
    "        sf.write(bird_filename_wav, bird_array, sr)"
   ]
  },
  {
   "cell_type": "code",
   "execution_count": 22,
   "metadata": {},
   "outputs": [],
   "source": [
    "def conversion_function(birdslist, sr, do_print=False):\n",
    "    \"\"\"\n",
    "    Converts all of the mp3 files\n",
    "    \"\"\"\n",
    "    for birdName in birdslist:\n",
    "        bird_dir = f\"{DATA_DIR_MP3}/{birdName}\"\n",
    "        birdsaudiolist = [f for f in os.listdir(bird_dir) if os.path.isfile(os.path.join(bird_dir, f))]\n",
    "        \n",
    "        if do_print: start_time = time.time(); print(f\"Converting {len(birdsaudiolist)} audio files of {birdName}\")\n",
    "            \n",
    "        Parallel(n_jobs=-1, verbose=1)(delayed(convert_mp3_to_wav)(birdaudio, birdName, sr) \n",
    "                                       for birdaudio in birdsaudiolist)\n",
    "\n",
    "        \"\"\"\n",
    "        To debug corrupted files, \n",
    "        uncomment the lines below and the print in the 'convert_mp3_to_wav' function,\n",
    "        comment the 'Parallel' function,\n",
    "        then delete the file.\n",
    "        \"\"\"\n",
    "#         for birdaudio in birdsaudiolist:\n",
    "#             convert_mp3_to_wav(birdaudio, birdName, sr)\n",
    "        \n",
    "                \n",
    "        if do_print: print(f\"Conversion duration: {time.time()-start_time}s\\n\")"
   ]
  },
  {
   "cell_type": "code",
   "execution_count": 23,
   "metadata": {},
   "outputs": [
    {
     "name": "stdout",
     "output_type": "stream",
     "text": [
      "Converting 334 audio files of carduelis_carduelis\n"
     ]
    },
    {
     "name": "stderr",
     "output_type": "stream",
     "text": [
      "[Parallel(n_jobs=4)]: Using backend LokyBackend with 4 concurrent workers.\n",
      "[Parallel(n_jobs=4)]: Done  68 tasks      | elapsed:    2.0s\n",
      "[Parallel(n_jobs=4)]: Done 334 out of 334 | elapsed:    2.2s finished\n"
     ]
    },
    {
     "name": "stdout",
     "output_type": "stream",
     "text": [
      "Conversion duration: 2.281167984008789s\n",
      "\n",
      "Converting 167 audio files of columba_palumbus\n"
     ]
    },
    {
     "name": "stderr",
     "output_type": "stream",
     "text": [
      "[Parallel(n_jobs=4)]: Using backend LokyBackend with 4 concurrent workers.\n",
      "[Parallel(n_jobs=4)]: Done 130 tasks      | elapsed:    0.0s\n",
      "[Parallel(n_jobs=4)]: Done 167 out of 167 | elapsed:    0.1s finished\n"
     ]
    },
    {
     "name": "stdout",
     "output_type": "stream",
     "text": [
      "Conversion duration: 0.1570119857788086s\n",
      "\n",
      "Converting 424 audio files of cyanistes_caeruleus\n"
     ]
    },
    {
     "name": "stderr",
     "output_type": "stream",
     "text": [
      "[Parallel(n_jobs=4)]: Using backend LokyBackend with 4 concurrent workers.\n",
      "[Parallel(n_jobs=4)]: Done 312 tasks      | elapsed:    0.0s\n",
      "[Parallel(n_jobs=4)]: Done 424 out of 424 | elapsed:    0.1s finished\n",
      "[Parallel(n_jobs=4)]: Using backend LokyBackend with 4 concurrent workers.\n",
      "[Parallel(n_jobs=4)]: Done 312 tasks      | elapsed:    0.0s\n"
     ]
    },
    {
     "name": "stdout",
     "output_type": "stream",
     "text": [
      "Conversion duration: 0.1980137825012207s\n",
      "\n",
      "Converting 686 audio files of erithacus_rubecula\n"
     ]
    },
    {
     "name": "stderr",
     "output_type": "stream",
     "text": [
      "[Parallel(n_jobs=4)]: Done 686 out of 686 | elapsed:    0.1s finished\n"
     ]
    },
    {
     "name": "stdout",
     "output_type": "stream",
     "text": [
      "Conversion duration: 0.2130134105682373s\n",
      "\n",
      "Converting 949 audio files of fringilla_coelebs\n"
     ]
    },
    {
     "name": "stderr",
     "output_type": "stream",
     "text": [
      "[Parallel(n_jobs=4)]: Using backend LokyBackend with 4 concurrent workers.\n",
      "[Parallel(n_jobs=4)]: Done 312 tasks      | elapsed:    0.1s\n",
      "[Parallel(n_jobs=4)]: Done 949 out of 949 | elapsed:    0.2s finished\n",
      "[Parallel(n_jobs=4)]: Using backend LokyBackend with 4 concurrent workers.\n"
     ]
    },
    {
     "name": "stdout",
     "output_type": "stream",
     "text": [
      "Conversion duration: 0.31902313232421875s\n",
      "\n",
      "Converting 227 audio files of hirundo_rustica\n"
     ]
    },
    {
     "name": "stderr",
     "output_type": "stream",
     "text": [
      "[Parallel(n_jobs=4)]: Done 190 tasks      | elapsed:    0.0s\n",
      "[Parallel(n_jobs=4)]: Done 227 out of 227 | elapsed:    0.1s finished\n",
      "[Parallel(n_jobs=4)]: Using backend LokyBackend with 4 concurrent workers.\n",
      "[Parallel(n_jobs=4)]: Done 130 tasks      | elapsed:    0.0s\n"
     ]
    },
    {
     "name": "stdout",
     "output_type": "stream",
     "text": [
      "Conversion duration: 0.15501141548156738s\n",
      "\n",
      "Converting 170 audio files of linaria_cannabina\n"
     ]
    },
    {
     "name": "stderr",
     "output_type": "stream",
     "text": [
      "[Parallel(n_jobs=4)]: Done 170 out of 170 | elapsed:    0.1s finished\n",
      "[Parallel(n_jobs=4)]: Using backend LokyBackend with 4 concurrent workers.\n"
     ]
    },
    {
     "name": "stdout",
     "output_type": "stream",
     "text": [
      "Conversion duration: 0.16301369667053223s\n",
      "\n",
      "Converting 1082 audio files of parus_major\n"
     ]
    },
    {
     "name": "stderr",
     "output_type": "stream",
     "text": [
      "[Parallel(n_jobs=4)]: Done 312 tasks      | elapsed:    0.0s\n",
      "[Parallel(n_jobs=4)]: Done 1082 out of 1082 | elapsed:    0.2s finished\n",
      "[Parallel(n_jobs=4)]: Using backend LokyBackend with 4 concurrent workers.\n",
      "[Parallel(n_jobs=4)]: Done 190 tasks      | elapsed:    0.0s\n"
     ]
    },
    {
     "name": "stdout",
     "output_type": "stream",
     "text": [
      "Conversion duration: 0.3200228214263916s\n",
      "\n",
      "Converting 223 audio files of passer_domesticus\n"
     ]
    },
    {
     "name": "stderr",
     "output_type": "stream",
     "text": [
      "[Parallel(n_jobs=4)]: Done 223 out of 223 | elapsed:    0.1s finished\n",
      "[Parallel(n_jobs=4)]: Using backend LokyBackend with 4 concurrent workers.\n"
     ]
    },
    {
     "name": "stdout",
     "output_type": "stream",
     "text": [
      "Conversion duration: 0.1960158348083496s\n",
      "\n",
      "Converting 749 audio files of phylloscopus_collybita\n"
     ]
    },
    {
     "name": "stderr",
     "output_type": "stream",
     "text": [
      "[Parallel(n_jobs=4)]: Done 312 tasks      | elapsed:    0.0s\n",
      "[Parallel(n_jobs=4)]: Done 749 out of 749 | elapsed:    0.1s finished\n",
      "[Parallel(n_jobs=4)]: Using backend LokyBackend with 4 concurrent workers.\n"
     ]
    },
    {
     "name": "stdout",
     "output_type": "stream",
     "text": [
      "Conversion duration: 0.21501493453979492s\n",
      "\n",
      "Converting 286 audio files of regulus_regulus\n"
     ]
    },
    {
     "name": "stderr",
     "output_type": "stream",
     "text": [
      "[Parallel(n_jobs=4)]: Done 250 tasks      | elapsed:    0.0s\n",
      "[Parallel(n_jobs=4)]: Done 286 out of 286 | elapsed:    0.1s finished\n",
      "[Parallel(n_jobs=4)]: Using backend LokyBackend with 4 concurrent workers.\n"
     ]
    },
    {
     "name": "stdout",
     "output_type": "stream",
     "text": [
      "Conversion duration: 0.17101359367370605s\n",
      "\n",
      "Converting 196 audio files of sturnus_vulgaris\n",
      "Conversion duration: 0.12901043891906738s\n",
      "\n"
     ]
    },
    {
     "name": "stderr",
     "output_type": "stream",
     "text": [
      "[Parallel(n_jobs=4)]: Done 196 out of 196 | elapsed:    0.0s finished\n",
      "[Parallel(n_jobs=4)]: Using backend LokyBackend with 4 concurrent workers.\n",
      "[Parallel(n_jobs=4)]: Done 312 tasks      | elapsed:    0.0s\n"
     ]
    },
    {
     "name": "stdout",
     "output_type": "stream",
     "text": [
      "Converting 645 audio files of turdus_merula\n",
      "Conversion duration: 106.53695821762085s\n",
      "\n",
      "Wall time: 1min 51s\n"
     ]
    },
    {
     "name": "stderr",
     "output_type": "stream",
     "text": [
      "[Parallel(n_jobs=4)]: Done 645 out of 645 | elapsed:  1.8min finished\n"
     ]
    }
   ],
   "source": [
    "%%time\n",
    "conversion_function(BIRDS_DIR_LIST, SR, do_print=True)"
   ]
  },
  {
   "cell_type": "code",
   "execution_count": null,
   "metadata": {},
   "outputs": [],
   "source": []
  },
  {
   "cell_type": "code",
   "execution_count": null,
   "metadata": {},
   "outputs": [],
   "source": []
  },
  {
   "cell_type": "code",
   "execution_count": null,
   "metadata": {},
   "outputs": [],
   "source": []
  },
  {
   "cell_type": "code",
   "execution_count": null,
   "metadata": {},
   "outputs": [],
   "source": []
  },
  {
   "cell_type": "code",
   "execution_count": null,
   "metadata": {},
   "outputs": [],
   "source": []
  },
  {
   "cell_type": "code",
   "execution_count": null,
   "metadata": {},
   "outputs": [],
   "source": []
  },
  {
   "cell_type": "code",
   "execution_count": null,
   "metadata": {},
   "outputs": [],
   "source": []
  },
  {
   "cell_type": "code",
   "execution_count": null,
   "metadata": {},
   "outputs": [],
   "source": []
  },
  {
   "cell_type": "code",
   "execution_count": null,
   "metadata": {},
   "outputs": [],
   "source": []
  }
 ],
 "metadata": {
  "kernelspec": {
   "display_name": "Python 3",
   "language": "python",
   "name": "python3"
  },
  "language_info": {
   "codemirror_mode": {
    "name": "ipython",
    "version": 3
   },
   "file_extension": ".py",
   "mimetype": "text/x-python",
   "name": "python",
   "nbconvert_exporter": "python",
   "pygments_lexer": "ipython3",
   "version": "3.7.7"
  }
 },
 "nbformat": 4,
 "nbformat_minor": 4
}
