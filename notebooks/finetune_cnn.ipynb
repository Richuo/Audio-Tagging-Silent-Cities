{
 "cells": [
  {
   "cell_type": "code",
   "execution_count": 1,
   "metadata": {},
   "outputs": [],
   "source": [
    "import os\n",
    "import sys\n",
    "import time\n",
    "import copy\n",
    "import gc\n",
    "\n",
    "import numpy as np\n",
    "import random\n",
    "import pandas as pd\n",
    "import librosa\n",
    "import matplotlib.pyplot as plt\n",
    "\n",
    "from sklearn.model_selection import train_test_split\n",
    "import torch\n",
    "torch.backends.cudnn.benchmark=True\n",
    "torch.manual_seed(0)\n",
    "import torch.nn as nn\n",
    "import torch.nn.functional as F\n",
    "import torch.optim as optim\n",
    "from torch.optim import lr_scheduler\n",
    "import torch.utils.data as utils\n",
    "\n",
    "sys.path.append('audio_tagging_functions')\n",
    "from models import *"
   ]
  },
  {
   "cell_type": "code",
   "execution_count": 2,
   "metadata": {},
   "outputs": [
    {
     "name": "stdout",
     "output_type": "stream",
     "text": [
      "Device: cuda\n"
     ]
    }
   ],
   "source": [
    "MODEL_TYPE = \"Transfer_Cnn6\"\n",
    "MODEL_PATH = \"pretrained_models/Cnn6_mAP=0.343.pth\"\n",
    "\n",
    "LABELS_PATH = \"labels/all_data.csv\"\n",
    "DATA_PATH = \"audiodata/wav\"\n",
    "SAVE_MODEL_PATH = \"models\"\n",
    "GRAPHS_PATH = \"graphs\"\n",
    "\n",
    "# Audio parameters\n",
    "SR = 14000             # Sample Rate\n",
    "AUDIO_DURATION = 10    # 10 seconds duration window for all audios\n",
    "\n",
    "# Model parameters\n",
    "NB_SPECIES = 13        # Number of classes\n",
    "LR = 1e-2              # Learning Rate\n",
    "BATCH_SIZE = 8\n",
    "EPOCHS = 4\n",
    "\n",
    "# Misc parameters\n",
    "RANDOM_STATE = 42\n",
    "random.seed(RANDOM_STATE)\n",
    "\n",
    "DEVICE = torch.device('cuda') if torch.cuda.is_available() else torch.device('cpu')\n",
    "print(f\"Device: {DEVICE}\")"
   ]
  },
  {
   "cell_type": "markdown",
   "metadata": {},
   "source": [
    "### Load Data and Initialize DataLoaders"
   ]
  },
  {
   "cell_type": "code",
   "execution_count": 3,
   "metadata": {},
   "outputs": [
    {
     "data": {
      "text/html": [
       "<div>\n",
       "<style scoped>\n",
       "    .dataframe tbody tr th:only-of-type {\n",
       "        vertical-align: middle;\n",
       "    }\n",
       "\n",
       "    .dataframe tbody tr th {\n",
       "        vertical-align: top;\n",
       "    }\n",
       "\n",
       "    .dataframe thead th {\n",
       "        text-align: right;\n",
       "    }\n",
       "</style>\n",
       "<table border=\"1\" class=\"dataframe\">\n",
       "  <thead>\n",
       "    <tr style=\"text-align: right;\">\n",
       "      <th></th>\n",
       "      <th>fname</th>\n",
       "      <th>iD</th>\n",
       "      <th>length</th>\n",
       "      <th>label</th>\n",
       "    </tr>\n",
       "  </thead>\n",
       "  <tbody>\n",
       "    <tr>\n",
       "      <th>0</th>\n",
       "      <td>audiodata/wav/sturnus_vulgaris/sturnus_vulgari...</td>\n",
       "      <td>548389</td>\n",
       "      <td>59</td>\n",
       "      <td>0</td>\n",
       "    </tr>\n",
       "    <tr>\n",
       "      <th>1</th>\n",
       "      <td>audiodata/wav/sturnus_vulgaris/sturnus_vulgari...</td>\n",
       "      <td>546936</td>\n",
       "      <td>32</td>\n",
       "      <td>0</td>\n",
       "    </tr>\n",
       "    <tr>\n",
       "      <th>2</th>\n",
       "      <td>audiodata/wav/sturnus_vulgaris/sturnus_vulgari...</td>\n",
       "      <td>546935</td>\n",
       "      <td>65</td>\n",
       "      <td>0</td>\n",
       "    </tr>\n",
       "    <tr>\n",
       "      <th>3</th>\n",
       "      <td>audiodata/wav/sturnus_vulgaris/sturnus_vulgari...</td>\n",
       "      <td>543800</td>\n",
       "      <td>36</td>\n",
       "      <td>0</td>\n",
       "    </tr>\n",
       "    <tr>\n",
       "      <th>4</th>\n",
       "      <td>audiodata/wav/sturnus_vulgaris/sturnus_vulgari...</td>\n",
       "      <td>542770</td>\n",
       "      <td>44</td>\n",
       "      <td>0</td>\n",
       "    </tr>\n",
       "  </tbody>\n",
       "</table>\n",
       "</div>"
      ],
      "text/plain": [
       "                                               fname      iD  length  label\n",
       "0  audiodata/wav/sturnus_vulgaris/sturnus_vulgari...  548389      59      0\n",
       "1  audiodata/wav/sturnus_vulgaris/sturnus_vulgari...  546936      32      0\n",
       "2  audiodata/wav/sturnus_vulgaris/sturnus_vulgari...  546935      65      0\n",
       "3  audiodata/wav/sturnus_vulgaris/sturnus_vulgari...  543800      36      0\n",
       "4  audiodata/wav/sturnus_vulgaris/sturnus_vulgari...  542770      44      0"
      ]
     },
     "execution_count": 3,
     "metadata": {},
     "output_type": "execute_result"
    }
   ],
   "source": [
    "labels_df = pd.read_csv(LABELS_PATH)\n",
    "labels_df.head()"
   ]
  },
  {
   "cell_type": "code",
   "execution_count": 4,
   "metadata": {},
   "outputs": [],
   "source": [
    "def load_df2array(df):\n",
    "    \"\"\"\n",
    "    Loads and stores arrays, and also returns a dict of missing files.\n",
    "    \"\"\"\n",
    "    nonValidDict = {}\n",
    "    waveforms_list = []\n",
    "    ConstantShape = SR * AUDIO_DURATION # Zero-padding\n",
    "    \n",
    "    for idx in range(len(df)):\n",
    "        filename = df['fname'][idx]\n",
    "        length = df['length'][idx]\n",
    "        label = df['label'][idx]\n",
    "\n",
    "        if os.path.isfile(filename):\n",
    "            waveform = load_waveform2numpy(filename, length, sample_rate=SR)\n",
    "            length_waveform = len(waveform)\n",
    "\n",
    "            # Zero-padding\n",
    "            if length_waveform != ConstantShape:\n",
    "                waveform = np.pad(waveform, (0, ConstantShape - length_waveform), 'constant')\n",
    "\n",
    "            waveforms_list.append([waveform, label])\n",
    "\n",
    "        else:\n",
    "            iD = df['iD'][idx]\n",
    "            nonValidDict[iD] = filename\n",
    "\n",
    "    return waveforms_list, nonValidDict"
   ]
  },
  {
   "cell_type": "code",
   "execution_count": 5,
   "metadata": {},
   "outputs": [],
   "source": [
    "def load_waveform2numpy(filename, length, sample_rate):\n",
    "    \"\"\"\n",
    "    Loads from filename path and returns numpy array.\n",
    "    \"\"\"\n",
    "    # Random crop of a 10 sec segment\n",
    "    offset = random.randint(0, length-AUDIO_DURATION)\n",
    "\n",
    "    waveform, _ = librosa.core.load(filename, sr=sample_rate, mono=True, offset=offset, duration=AUDIO_DURATION)\n",
    "    #waveform = waveform[None, :]    # (1, audio_length)\n",
    "\n",
    "    return waveform"
   ]
  },
  {
   "cell_type": "code",
   "execution_count": 6,
   "metadata": {},
   "outputs": [
    {
     "name": "stdout",
     "output_type": "stream",
     "text": [
      "Valid files: 6138\n",
      "Unvalid files: 9\n",
      "Wall time: 1min 58s\n"
     ]
    }
   ],
   "source": [
    "%%time\n",
    "waveforms_list, nonValidDict = load_df2array(labels_df)\n",
    "print(f\"Valid files: {len(waveforms_list)}\\nUnvalid files: {len(nonValidDict)}\")"
   ]
  },
  {
   "cell_type": "code",
   "execution_count": 7,
   "metadata": {},
   "outputs": [
    {
     "name": "stdout",
     "output_type": "stream",
     "text": [
      "X_all:(6138, 140000), y_all:(6138,)\n"
     ]
    }
   ],
   "source": [
    "waveforms_arrays = [x[0] for x in waveforms_list]\n",
    "X_all = np.vstack(waveforms_arrays)\n",
    "y_all = np.array([x[1] for x in waveforms_list])\n",
    "print(f\"X_all:{X_all.shape}, y_all:{y_all.shape}\")"
   ]
  },
  {
   "cell_type": "code",
   "execution_count": 8,
   "metadata": {},
   "outputs": [
    {
     "data": {
      "image/png": "[encoded data removed]",
      "text/plain": [
       "<Figure size 432x288 with 1 Axes>"
      ]
     },
     "metadata": {
      "needs_background": "light"
     },
     "output_type": "display_data"
    }
   ],
   "source": [
    "# Plot the distribution of labels\n",
    "plt.hist(y_all, bins=20)\n",
    "plt.title(\"Distribution of labels\")\n",
    "plt.show()"
   ]
  },
  {
   "cell_type": "code",
   "execution_count": 9,
   "metadata": {},
   "outputs": [
    {
     "name": "stdout",
     "output_type": "stream",
     "text": [
      "X_train:(4419, 140000), X_val:(1105, 140000), X_test:(614, 140000)\n",
      "y_train:(4419,), y_val:(1105,), y_test:(614,)\n"
     ]
    }
   ],
   "source": [
    "# Split Data in train, validation, test\n",
    "X_training, X_test, y_training, y_test = train_test_split(X_all, y_all, test_size=0.1, \n",
    "                                                          random_state=RANDOM_STATE, stratify=y_all)\n",
    "X_train, X_val, y_train, y_val = train_test_split(X_training, y_training, test_size=0.2, \n",
    "                                                  random_state=RANDOM_STATE, stratify=y_training)\n",
    "print(f\"X_train:{X_train.shape}, X_val:{X_val.shape}, X_test:{X_test.shape}\")\n",
    "print(f\"y_train:{y_train.shape}, y_val:{y_val.shape}, y_test:{y_test.shape}\")"
   ]
  },
  {
   "cell_type": "code",
   "execution_count": 10,
   "metadata": {},
   "outputs": [],
   "source": [
    "def get_dataloaders(x, y):\n",
    "    tensor_x = torch.from_numpy(x).float().to(DEVICE)\n",
    "    tensor_y = torch.from_numpy(y).long().to(DEVICE)\n",
    "\n",
    "    tensordataset = utils.TensorDataset(tensor_x, tensor_y)\n",
    "    dataloader = utils.DataLoader(tensordataset, batch_size=BATCH_SIZE, shuffle=True)\n",
    "\n",
    "    return dataloader"
   ]
  },
  {
   "cell_type": "code",
   "execution_count": 11,
   "metadata": {},
   "outputs": [],
   "source": [
    "trainloader = get_dataloaders(X_train, y_train)\n",
    "validationloader = get_dataloaders(X_val, y_val)\n",
    "testloader = get_dataloaders(X_test, y_test)"
   ]
  },
  {
   "cell_type": "code",
   "execution_count": 12,
   "metadata": {},
   "outputs": [
    {
     "data": {
      "text/plain": [
       "3745"
      ]
     },
     "execution_count": 12,
     "metadata": {},
     "output_type": "execute_result"
    }
   ],
   "source": [
    "del X_all, y_all, X_train, y_train, X_val, y_val,X_test, y_test, waveforms_list\n",
    "gc.collect()"
   ]
  },
  {
   "cell_type": "markdown",
   "metadata": {},
   "source": [
    "### Load the pretrained model\n",
    "\n",
    "Inspired by: https://github.com/qiuqiangkong/audioset_tagging_cnn/blob/master/pytorch/finetune_template.py"
   ]
  },
  {
   "cell_type": "code",
   "execution_count": 13,
   "metadata": {},
   "outputs": [],
   "source": [
    "class Transfer_Cnn6(nn.Module):\n",
    "    def __init__(self, sample_rate, window_size, hop_size, mel_bins, fmin, \n",
    "        fmax, classes_num, freeze_base):\n",
    "        \"\"\"Classifier for a new task using pretrained Cnn14 as a sub module.\n",
    "        \"\"\"\n",
    "        super(Transfer_Cnn6, self).__init__()\n",
    "        audioset_classes_num = 527\n",
    "\n",
    "        self.base = Cnn6(sample_rate, window_size, hop_size, mel_bins, fmin, \n",
    "            fmax, audioset_classes_num)\n",
    "\n",
    "        # Transfer to another task layer\n",
    "        self.fc_transfer1 = nn.Linear(512, 256, bias=True)\n",
    "        self.fc_transfer2 = nn.Linear(256, classes_num, bias=True)\n",
    "\n",
    "        if freeze_base:\n",
    "            # Freeze AudioSet pretrained layers\n",
    "            for param in self.base.parameters():\n",
    "                param.requires_grad = False\n",
    "\n",
    "        self.init_weights()\n",
    "\n",
    "    def init_weights(self):\n",
    "        init_layer(self.fc_transfer1)\n",
    "        init_layer(self.fc_transfer2)\n",
    "\n",
    "    def load_from_pretrain(self, pretrained_checkpoint_path):\n",
    "        checkpoint = torch.load(pretrained_checkpoint_path, map_location=torch.device(DEVICE))\n",
    "        self.base.load_state_dict(checkpoint['model'])\n",
    "\n",
    "    def forward(self, input, mixup_lambda=None):\n",
    "        \"\"\"Input: (batch_size, data_length)\n",
    "        \"\"\"\n",
    "        output_dict = self.base(input, mixup_lambda)\n",
    "        embedding = output_dict['embedding']\n",
    "\n",
    "        x = F.relu(self.fc_transfer1(embedding))\n",
    "        clipwise_output =  self.fc_transfer2(x)\n",
    "        output_dict['clipwise_output'] = clipwise_output\n",
    " \n",
    "        return output_dict"
   ]
  },
  {
   "cell_type": "code",
   "execution_count": 14,
   "metadata": {},
   "outputs": [
    {
     "name": "stderr",
     "output_type": "stream",
     "text": [
      "C:\\Users\\Richard\\Anaconda3\\envs\\Pytorch-gpu\\lib\\site-packages\\librosa\\filters.py:284: UserWarning: Empty filters detected in mel frequency basis. Some channels will produce empty responses. Try increasing your sampling rate (and fmax) or reducing n_mels.\n",
      "  warnings.warn('Empty filters detected in mel frequency basis. '\n"
     ]
    },
    {
     "name": "stdout",
     "output_type": "stream",
     "text": [
      "Transfer_Cnn6(\n",
      "  (base): Cnn6(\n",
      "    (spectrogram_extractor): Spectrogram(\n",
      "      (stft): STFT(\n",
      "        (conv_real): Conv1d(1, 513, kernel_size=(1024,), stride=(320,), bias=False)\n",
      "        (conv_imag): Conv1d(1, 513, kernel_size=(1024,), stride=(320,), bias=False)\n",
      "      )\n",
      "    )\n",
      "    (logmel_extractor): LogmelFilterBank()\n",
      "    (spec_augmenter): SpecAugmentation(\n",
      "      (time_dropper): DropStripes()\n",
      "      (freq_dropper): DropStripes()\n",
      "    )\n",
      "    (bn0): BatchNorm2d(64, eps=1e-05, momentum=0.1, affine=True, track_running_stats=True)\n",
      "    (conv_block1): ConvBlock5x5(\n",
      "      (conv1): Conv2d(1, 64, kernel_size=(5, 5), stride=(1, 1), padding=(2, 2), bias=False)\n",
      "      (bn1): BatchNorm2d(64, eps=1e-05, momentum=0.1, affine=True, track_running_stats=True)\n",
      "    )\n",
      "    (conv_block2): ConvBlock5x5(\n",
      "      (conv1): Conv2d(64, 128, kernel_size=(5, 5), stride=(1, 1), padding=(2, 2), bias=False)\n",
      "      (bn1): BatchNorm2d(128, eps=1e-05, momentum=0.1, affine=True, track_running_stats=True)\n",
      "    )\n",
      "    (conv_block3): ConvBlock5x5(\n",
      "      (conv1): Conv2d(128, 256, kernel_size=(5, 5), stride=(1, 1), padding=(2, 2), bias=False)\n",
      "      (bn1): BatchNorm2d(256, eps=1e-05, momentum=0.1, affine=True, track_running_stats=True)\n",
      "    )\n",
      "    (conv_block4): ConvBlock5x5(\n",
      "      (conv1): Conv2d(256, 512, kernel_size=(5, 5), stride=(1, 1), padding=(2, 2), bias=False)\n",
      "      (bn1): BatchNorm2d(512, eps=1e-05, momentum=0.1, affine=True, track_running_stats=True)\n",
      "    )\n",
      "    (fc1): Linear(in_features=512, out_features=512, bias=True)\n",
      "    (fc_audioset): Linear(in_features=512, out_features=527, bias=True)\n",
      "  )\n",
      "  (fc_transfer1): Linear(in_features=512, out_features=256, bias=True)\n",
      "  (fc_transfer2): Linear(in_features=256, out_features=13, bias=True)\n",
      ")\n",
      "GPU number: 1\n",
      "Load pretrained model successfully!\n"
     ]
    }
   ],
   "source": [
    "# Model Audio parameters\n",
    "window_size = 1024\n",
    "hop_size = 320\n",
    "mel_bins = 64\n",
    "fmin = 50\n",
    "fmax = 14000\n",
    "freeze_base = True\n",
    "sample_rate = 14000\n",
    "classes_num = NB_SPECIES\n",
    "\n",
    "# Initialize Model\n",
    "Model = eval(MODEL_TYPE)\n",
    "model = Model(sample_rate, window_size, hop_size, mel_bins, fmin, fmax, \n",
    "    classes_num, freeze_base)\n",
    "\n",
    "print(model)\n",
    "\n",
    "# Load pretrained model\n",
    "model.load_from_pretrain(MODEL_PATH)\n",
    "\n",
    "# Parallel\n",
    "print('GPU number: {}'.format(torch.cuda.device_count()))\n",
    "model = torch.nn.DataParallel(model)\n",
    "\n",
    "if DEVICE == 'cuda':\n",
    "    model.to(DEVICE)\n",
    "\n",
    "print('Load pretrained model successfully!')"
   ]
  },
  {
   "cell_type": "markdown",
   "metadata": {},
   "source": [
    "### Training Part\n",
    "\n",
    "https://pytorch.org/tutorials/beginner/transfer_learning_tutorial.html"
   ]
  },
  {
   "cell_type": "code",
   "execution_count": 15,
   "metadata": {},
   "outputs": [],
   "source": [
    "dataloaders = {\"train\": trainloader,\n",
    "               \"val\": validationloader}\n",
    "dataset_sizes = {\"train\": len(trainloader)*BATCH_SIZE,\n",
    "                 \"val\": len(validationloader)*BATCH_SIZE}"
   ]
  },
  {
   "cell_type": "code",
   "execution_count": 16,
   "metadata": {},
   "outputs": [],
   "source": [
    "def train_model(model, criterion, optimizer, scheduler, dataloaders, num_epochs=25):\n",
    "    history_training = {'epochs': np.arange(num_epochs),\n",
    "                        'train_loss': [],\n",
    "                        'val_loss': [],\n",
    "                        'train_acc': [],\n",
    "                        'val_acc': []}\n",
    "    \n",
    "    since = time.time()\n",
    "    best_model_wts = copy.deepcopy(model.state_dict())\n",
    "    best_acc = 0.0\n",
    "\n",
    "    for epoch in range(num_epochs):\n",
    "        lasttime = time.time()\n",
    "        print('Epoch {}/{}'.format(epoch, num_epochs - 1))\n",
    "        print('-' * 10)\n",
    "\n",
    "        # Each epoch has a training and validation phase\n",
    "        for phase in ['train', 'val']:\n",
    "            if phase == 'train':\n",
    "                model.train()  # Set model to training mode\n",
    "            else:\n",
    "                model.eval()   # Set model to evaluate mode\n",
    "\n",
    "            running_loss = 0.0\n",
    "            running_corrects = 0\n",
    "\n",
    "            # Iterate over data.\n",
    "            for inputs, labels in dataloaders[phase]:\n",
    "                inputs = inputs.to(DEVICE)\n",
    "                labels = labels.to(DEVICE)\n",
    "\n",
    "                # zero the parameter gradients\n",
    "                optimizer.zero_grad()\n",
    "\n",
    "                # forward\n",
    "                # track history if only in train\n",
    "                with torch.set_grad_enabled(phase == 'train'):\n",
    "                    outputs = model(inputs)['clipwise_output']\n",
    "                    _, preds = torch.max(outputs, 1)\n",
    "                    loss = criterion(outputs, labels)\n",
    "\n",
    "                    # backward + optimize only if in training phase\n",
    "                    if phase == 'train':\n",
    "                        loss.backward()\n",
    "                        optimizer.step()\n",
    "\n",
    "                # statistics\n",
    "                running_loss += loss.item() * inputs.size(0)\n",
    "                running_corrects += torch.sum(preds == labels.data)\n",
    "            if phase == 'train':\n",
    "                scheduler.step()\n",
    "\n",
    "            epoch_loss = running_loss / dataset_sizes[phase]\n",
    "            epoch_acc = running_corrects.double() / dataset_sizes[phase]\n",
    "\n",
    "            print('{} Loss: {:.4f} Acc: {:.4f}'.format(\n",
    "                phase, epoch_loss, epoch_acc))            \n",
    "\n",
    "            history_training[f'{phase}_loss'].append(epoch_loss)\n",
    "            history_training[f'{phase}_acc'].append(epoch_acc)\n",
    "\n",
    "            # deep copy the model\n",
    "            if phase == 'val' and epoch_acc > best_acc:\n",
    "                best_acc = epoch_acc\n",
    "                best_model_wts = copy.deepcopy(model.state_dict())\n",
    "\n",
    "        print(\"Epoch complete in {:.1f}s\\n\".format(time.time() - lasttime))\n",
    "\n",
    "    time_elapsed = time.time() - since\n",
    "    print('Training complete in {:.0f}m {:.0f}s'.format(\n",
    "        time_elapsed // 60, time_elapsed % 60))\n",
    "    print('Best val Acc: {:4f}'.format(best_acc))\n",
    "\n",
    "    # load best model weights\n",
    "    model.load_state_dict(best_model_wts)\n",
    "\n",
    "    return model, history_training"
   ]
  },
  {
   "cell_type": "code",
   "execution_count": 17,
   "metadata": {},
   "outputs": [],
   "source": [
    "criterion = nn.CrossEntropyLoss()\n",
    "optimizer = optim.SGD(model.parameters(), lr=LR, momentum=0.9)\n",
    "\n",
    "# Decay LR by a factor of 0.1 every 7 epochs\n",
    "exp_lr_scheduler = lr_scheduler.StepLR(optimizer, step_size=7, gamma=0.1)"
   ]
  },
  {
   "cell_type": "code",
   "execution_count": 18,
   "metadata": {},
   "outputs": [
    {
     "name": "stdout",
     "output_type": "stream",
     "text": [
      "Epoch 0/3\n",
      "----------\n",
      "train Loss: 2.3128 Acc: 0.2190\n",
      "val Loss: 2.1126 Acc: 0.3147\n",
      "Epoch complete in 20.9s\n",
      "\n",
      "Epoch 1/3\n",
      "----------\n",
      "train Loss: 2.2304 Acc: 0.2667\n",
      "val Loss: 2.1060 Acc: 0.2635\n",
      "Epoch complete in 16.4s\n",
      "\n",
      "Epoch 2/3\n",
      "----------\n",
      "train Loss: 2.2177 Acc: 0.2511\n",
      "val Loss: 2.0626 Acc: 0.3156\n",
      "Epoch complete in 16.3s\n",
      "\n",
      "Epoch 3/3\n",
      "----------\n",
      "train Loss: 2.1981 Acc: 0.2586\n",
      "val Loss: 2.0153 Acc: 0.3570\n",
      "Epoch complete in 16.3s\n",
      "\n",
      "Training complete in 1m 10s\n",
      "Best val Acc: 0.357014\n",
      "Wall time: 1min 9s\n"
     ]
    }
   ],
   "source": [
    "%%time\n",
    "model, history_training = train_model(model, criterion, optimizer, \n",
    "                                      exp_lr_scheduler, dataloaders, num_epochs=EPOCHS)"
   ]
  },
  {
   "cell_type": "code",
   "execution_count": 19,
   "metadata": {},
   "outputs": [],
   "source": [
    "torch.save(model.module.state_dict(), f\"{SAVE_MODEL_PATH}/{MODEL_TYPE}_trained.pth\")"
   ]
  },
  {
   "cell_type": "code",
   "execution_count": 20,
   "metadata": {},
   "outputs": [
    {
     "data": {
      "text/plain": [
       "[]"
      ]
     },
     "execution_count": 20,
     "metadata": {},
     "output_type": "execute_result"
    },
    {
     "data": {
      "image/png": "[encoded data removed]",
      "text/plain": [
       "<Figure size 1080x360 with 2 Axes>"
      ]
     },
     "metadata": {
      "needs_background": "light"
     },
     "output_type": "display_data"
    }
   ],
   "source": [
    "hist = history_training\n",
    "fig, ax = plt.subplots(1, 2, figsize=(15,5))\n",
    "ax[0].set_title('CNN+BiLSTM Training loss')\n",
    "ax[0].plot(hist[\"epochs\"], hist[\"train_loss\"], label=\"Train loss\")\n",
    "ax[0].plot(hist[\"epochs\"], hist[\"val_loss\"], label=\"Validation loss\")\n",
    "ax[1].set_title('CNN+BiLSTM Training accuracy')\n",
    "ax[1].plot(hist[\"epochs\"], hist[\"train_acc\"], label=\"Train accuracy\")\n",
    "ax[1].plot(hist[\"epochs\"], hist[\"val_acc\"], label=\"Validation accuracy\")\n",
    "ax[0].legend()\n",
    "ax[1].legend()\n",
    "plt.savefig(f\"{GRAPHS_PATH}/{MODEL_TYPE}_training.jpg\")\n",
    "plt.plot()"
   ]
  },
  {
   "cell_type": "code",
   "execution_count": null,
   "metadata": {},
   "outputs": [],
   "source": []
  },
  {
   "cell_type": "code",
   "execution_count": 21,
   "metadata": {},
   "outputs": [],
   "source": [
    "# Model2 = eval(MODEL_TYPE)\n",
    "# model2 = Model2(sample_rate, window_size, hop_size, mel_bins, fmin, fmax, \n",
    "#     classes_num, freeze_base)\n",
    "# model2.load_state_dict(torch.load(f\"{SAVE_MODEL_PATH}/{MODEL_TYPE}_trained.pth\"))\n",
    "# model2.to(DEVICE)"
   ]
  },
  {
   "cell_type": "code",
   "execution_count": null,
   "metadata": {},
   "outputs": [],
   "source": []
  },
  {
   "cell_type": "code",
   "execution_count": null,
   "metadata": {},
   "outputs": [],
   "source": []
  }
 ],
 "metadata": {
  "kernelspec": {
   "display_name": "Python 3",
   "language": "python",
   "name": "python3"
  },
  "language_info": {
   "codemirror_mode": {
    "name": "ipython",
    "version": 3
   },
   "file_extension": ".py",
   "mimetype": "text/x-python",
   "name": "python",
   "nbconvert_exporter": "python",
   "pygments_lexer": "ipython3",
   "version": "3.7.7"
  }
 },
 "nbformat": 4,
 "nbformat_minor": 4
}
